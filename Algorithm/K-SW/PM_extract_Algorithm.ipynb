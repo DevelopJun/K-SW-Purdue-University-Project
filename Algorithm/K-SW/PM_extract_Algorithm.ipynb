{
 "cells": [
  {
   "cell_type": "code",
   "execution_count": 90,
   "id": "confirmed-productivity",
   "metadata": {},
   "outputs": [],
   "source": [
    "%matplotlib inline\n",
    "import pandas as pd                #  data store and treat package pandas \n",
    "import matplotlib as mpl           # graph package\n",
    "import matplotlib.pyplot as plt    # graph package\n",
    "import numpy as np"
   ]
  },
  {
   "cell_type": "code",
   "execution_count": 91,
   "id": "nutritional-uniform",
   "metadata": {},
   "outputs": [
    {
     "data": {
      "text/html": [
       "<div>\n",
       "<style scoped>\n",
       "    .dataframe tbody tr th:only-of-type {\n",
       "        vertical-align: middle;\n",
       "    }\n",
       "\n",
       "    .dataframe tbody tr th {\n",
       "        vertical-align: top;\n",
       "    }\n",
       "\n",
       "    .dataframe thead th {\n",
       "        text-align: right;\n",
       "    }\n",
       "</style>\n",
       "<table border=\"1\" class=\"dataframe\">\n",
       "  <thead>\n",
       "    <tr style=\"text-align: right;\">\n",
       "      <th></th>\n",
       "      <th>PM</th>\n",
       "    </tr>\n",
       "  </thead>\n",
       "  <tbody>\n",
       "    <tr>\n",
       "      <th>0</th>\n",
       "      <td>14;\"14\"</td>\n",
       "    </tr>\n",
       "    <tr>\n",
       "      <th>1</th>\n",
       "      <td>14;\"14\"</td>\n",
       "    </tr>\n",
       "    <tr>\n",
       "      <th>2</th>\n",
       "      <td>14;\"14\"</td>\n",
       "    </tr>\n",
       "    <tr>\n",
       "      <th>3</th>\n",
       "      <td>14;\"14\"</td>\n",
       "    </tr>\n",
       "    <tr>\n",
       "      <th>4</th>\n",
       "      <td>14;\"14\"</td>\n",
       "    </tr>\n",
       "    <tr>\n",
       "      <th>...</th>\n",
       "      <td>...</td>\n",
       "    </tr>\n",
       "    <tr>\n",
       "      <th>595</th>\n",
       "      <td>15;\"15\"</td>\n",
       "    </tr>\n",
       "    <tr>\n",
       "      <th>596</th>\n",
       "      <td>15;\"15\"</td>\n",
       "    </tr>\n",
       "    <tr>\n",
       "      <th>597</th>\n",
       "      <td>15;\"15\"</td>\n",
       "    </tr>\n",
       "    <tr>\n",
       "      <th>598</th>\n",
       "      <td>17;\"17\"</td>\n",
       "    </tr>\n",
       "    <tr>\n",
       "      <th>599</th>\n",
       "      <td>17;\"17\"</td>\n",
       "    </tr>\n",
       "  </tbody>\n",
       "</table>\n",
       "<p>600 rows × 1 columns</p>\n",
       "</div>"
      ],
      "text/plain": [
       "          PM\n",
       "0    14;\"14\"\n",
       "1    14;\"14\"\n",
       "2    14;\"14\"\n",
       "3    14;\"14\"\n",
       "4    14;\"14\"\n",
       "..       ...\n",
       "595  15;\"15\"\n",
       "596  15;\"15\"\n",
       "597  15;\"15\"\n",
       "598  17;\"17\"\n",
       "599  17;\"17\"\n",
       "\n",
       "[600 rows x 1 columns]"
      ]
     },
     "execution_count": 91,
     "metadata": {},
     "output_type": "execute_result"
    }
   ],
   "source": [
    "PM_information = pd.read_csv('K_SW_PM.csv',encoding='euc-kr') # 여기에 파일 넣으시면 됩니다.\n",
    "PM_information"
   ]
  },
  {
   "cell_type": "code",
   "execution_count": 92,
   "id": "stopped-nepal",
   "metadata": {},
   "outputs": [
    {
     "data": {
      "text/plain": [
       "0      14;\"14\"\n",
       "1      14;\"14\"\n",
       "2      14;\"14\"\n",
       "3      14;\"14\"\n",
       "4      14;\"14\"\n",
       "        ...   \n",
       "595    15;\"15\"\n",
       "596    15;\"15\"\n",
       "597    15;\"15\"\n",
       "598    17;\"17\"\n",
       "599    17;\"17\"\n",
       "Name: PM, Length: 600, dtype: object"
      ]
     },
     "execution_count": 92,
     "metadata": {},
     "output_type": "execute_result"
    }
   ],
   "source": [
    "PM_information[\"PM\"]"
   ]
  },
  {
   "cell_type": "code",
   "execution_count": 93,
   "id": "blocked-scott",
   "metadata": {},
   "outputs": [
    {
     "name": "stdout",
     "output_type": "stream",
     "text": [
      "14\n",
      "14\n"
     ]
    }
   ],
   "source": [
    "data = PM_information[\"PM\"]\n",
    "print(data[1][0:2])\n",
    "print(data[1][4:6])"
   ]
  },
  {
   "cell_type": "code",
   "execution_count": 94,
   "id": "departmental-source",
   "metadata": {},
   "outputs": [],
   "source": [
    "dic_PM2_5 = {'1일차' : [], '2일차' : [], '3일차' : [], '4일차' : [], '5일차' : [], }\n",
    "dic_PM10 = {'1일차' : [], '2일차' : [], '3일차' : [], '4일차' : [], '5일차' : [], }"
   ]
  },
  {
   "cell_type": "code",
   "execution_count": 95,
   "id": "another-tyler",
   "metadata": {},
   "outputs": [
    {
     "name": "stdout",
     "output_type": "stream",
     "text": [
      "600\n",
      "600\n"
     ]
    }
   ],
   "source": [
    "PM2_5_data = []\n",
    "PM10_data = []\n",
    "for i in range(600):\n",
    "    \n",
    "    PM2_5_data.append(int(data[i][0:2]))\n",
    "    PM10_data.append(int(data[i][4:6]))\n",
    "#     a = data[i].lstrip()\n",
    "#     a = a.replace('\";\"', \"\")\n",
    "#     print(a)\n",
    "#     if len(a) == 2:\n",
    "#         PM2_5_data.append(int(a[0]))\n",
    "#         PM10_data.append(int(a[1]))\n",
    "#     elif len(a) == 3:\n",
    "#         PM2_5_data.append(int(a[0]))\n",
    "#         PM10_data.append(int(a[1:3]))\n",
    "#     elif len(a) == 4:\n",
    "#         PM2_5_data.append(int(a[0:2]))\n",
    "#         PM10_data.append(int(a[2:4]))\n",
    "    \n",
    "        \n",
    "print(len(PM2_5_data))\n",
    "print(len(PM10_data))"
   ]
  },
  {
   "cell_type": "code",
   "execution_count": 96,
   "id": "graphic-lingerie",
   "metadata": {},
   "outputs": [
    {
     "name": "stdout",
     "output_type": "stream",
     "text": [
      "{'1일차': [14, 14, 14, 14, 14, 14, 15, 15, 15, 15, 15, 15, 15, 15, 17, 17, 17, 17, 17, 17, 17, 18, 18, 18, 18, 18, 18, 18, 18, 18, 18, 18, 17, 17, 17, 17, 17, 17, 17, 16, 16, 16, 16, 17, 17, 17, 17, 17, 17, 17, 17, 17, 15, 15, 15, 15, 15, 15, 15, 14, 14, 14, 14, 14, 14, 14, 14, 14, 14, 14, 14, 14, 14, 14, 14, 14, 15, 15, 15, 17, 17, 17, 18, 18, 18, 18, 18, 18, 17, 17, 17, 18, 18, 18, 18, 17, 17, 17, 17, 17, 17, 17, 15, 15, 15, 15, 15, 15, 15, 15, 15, 15, 15, 15, 15, 14, 14, 15, 15, 15], '2일차': [15, 14, 14, 14, 14, 15, 15, 15, 15, 15, 15, 15, 15, 15, 15, 15, 15, 15, 14, 14, 15, 15, 15, 15, 15, 15, 15, 15, 15, 14, 14, 14, 14, 14, 14, 14, 14, 14, 14, 14, 14, 14, 14, 14, 14, 14, 14, 15, 15, 15, 15, 15, 14, 14, 14, 14, 14, 14, 14, 14, 14, 14, 14, 14, 14, 14, 14, 14, 15, 15, 15, 15, 15, 15, 15, 15, 15, 15, 15, 15, 17, 17, 18, 18, 18, 17, 17, 17, 17, 17, 17, 15, 15, 15, 15, 15, 15, 15, 15, 15, 15, 15, 15, 15, 15, 15, 14, 14, 14, 14, 14, 14, 14, 14, 14, 14, 14, 14, 15, 15], '3일차': [15, 15, 15, 15, 15, 15, 15, 15, 15, 15, 15, 15, 15, 15, 15, 15, 15, 17, 17, 17, 17, 17, 17, 17, 17, 17, 17, 17, 17, 17, 17, 17, 17, 17, 17, 17, 17, 15, 15, 15, 15, 15, 15, 15, 15, 15, 15, 15, 15, 15, 15, 15, 15, 14, 14, 15, 15, 15, 14, 14, 14, 14, 14, 14, 14, 14, 14, 14, 14, 14, 14, 14, 14, 14, 14, 14, 14, 14, 14, 14, 14, 14, 14, 14, 15, 15, 15, 15, 15, 15, 15, 17, 17, 15, 15, 15, 15, 15, 17, 17, 17, 15, 15, 15, 15, 15, 15, 15, 15, 15, 15, 15, 15, 15, 15, 15, 15, 15, 17, 17], '4일차': [17, 17, 17, 17, 17, 17, 17, 17, 17, 17, 17, 17, 17, 17, 15, 15, 15, 15, 15, 15, 15, 14, 14, 15, 15, 15, 15, 15, 15, 14, 14, 14, 14, 14, 14, 13, 13, 13, 13, 14, 14, 14, 14, 14, 14, 14, 14, 14, 14, 15, 15, 15, 15, 15, 15, 15, 15, 15, 17, 17, 17, 13, 13, 13, 14, 14, 14, 14, 14, 14, 14, 14, 14, 14, 15, 15, 14, 14, 14, 15, 15, 15, 15, 15, 15, 15, 17, 17, 15, 15, 15, 15, 15, 17, 17, 17, 15, 15, 15, 15, 15, 15, 15, 15, 15, 17, 17, 17, 17, 17, 17, 17, 17, 17, 17, 17, 17, 17, 17, 17], '5일차': [17, 17, 17, 17, 17, 15, 15, 15, 15, 15, 14, 14, 14, 14, 14, 14, 14, 14, 14, 14, 14, 14, 15, 15, 15, 15, 15, 15, 15, 15, 15, 15, 15, 15, 15, 15, 15, 15, 15, 15, 14, 14, 15, 15, 15, 15, 15, 15, 15, 15, 15, 14, 14, 14, 14, 14, 14, 14, 14, 14, 14, 14, 14, 14, 14, 14, 14, 14, 14, 15, 15, 15, 15, 15, 14, 14, 14, 14, 14, 15, 15, 15, 17, 17, 17, 18, 18, 18, 18, 18, 18, 17, 17, 17, 18, 18, 18, 18, 17, 17, 17, 17, 17, 17, 17, 15, 15, 15, 15, 15, 17, 17, 17, 15, 15, 15, 15, 15, 17, 17]}\n",
      "{'1일차': [14, 14, 14, 14, 14, 14, 15, 15, 15, 15, 15, 15, 15, 15, 17, 17, 17, 17, 17, 17, 17, 18, 18, 18, 18, 18, 18, 18, 18, 18, 18, 18, 17, 17, 17, 17, 17, 17, 17, 16, 16, 16, 16, 17, 17, 17, 17, 17, 17, 17, 17, 17, 15, 15, 15, 15, 15, 15, 15, 14, 14, 14, 14, 14, 14, 14, 14, 14, 14, 14, 14, 14, 14, 14, 14, 14, 15, 15, 15, 17, 17, 17, 18, 18, 18, 18, 18, 18, 17, 17, 17, 18, 18, 18, 18, 17, 17, 17, 17, 17, 17, 17, 15, 15, 15, 15, 15, 15, 15, 15, 15, 15, 15, 15, 15, 14, 14, 15, 15, 15], '2일차': [15, 14, 14, 14, 14, 15, 15, 15, 15, 15, 15, 15, 15, 15, 15, 15, 15, 15, 14, 14, 15, 15, 15, 17, 17, 17, 17, 17, 17, 14, 14, 14, 14, 14, 14, 14, 14, 14, 14, 14, 14, 14, 14, 14, 14, 14, 14, 15, 15, 15, 15, 15, 14, 14, 14, 14, 14, 14, 14, 14, 14, 14, 14, 14, 14, 14, 14, 14, 15, 15, 15, 15, 15, 15, 15, 15, 15, 15, 15, 15, 17, 17, 18, 18, 18, 17, 17, 17, 17, 17, 17, 15, 15, 15, 15, 15, 15, 15, 15, 15, 15, 15, 15, 15, 15, 15, 14, 14, 14, 14, 14, 14, 14, 14, 14, 14, 14, 15, 15, 15], '3일차': [15, 15, 15, 15, 15, 17, 17, 17, 17, 17, 17, 17, 17, 17, 17, 15, 15, 17, 17, 17, 17, 17, 17, 17, 17, 17, 17, 17, 18, 18, 18, 17, 17, 17, 17, 17, 17, 17, 15, 15, 15, 15, 15, 15, 15, 15, 15, 15, 15, 15, 15, 15, 15, 14, 14, 15, 15, 15, 14, 14, 14, 14, 14, 14, 14, 14, 14, 14, 14, 14, 14, 14, 14, 14, 14, 14, 14, 14, 14, 14, 14, 14, 14, 14, 15, 15, 15, 15, 15, 15, 15, 17, 17, 15, 15, 15, 15, 15, 17, 17, 17, 15, 15, 15, 15, 15, 15, 15, 15, 15, 15, 17, 17, 17, 15, 15, 15, 15, 17, 17], '4일차': [17, 17, 17, 17, 18, 18, 17, 17, 17, 17, 17, 17, 17, 17, 17, 17, 17, 17, 17, 17, 15, 14, 14, 15, 15, 15, 15, 15, 15, 14, 14, 14, 14, 14, 14, 13, 13, 13, 13, 14, 14, 14, 14, 14, 14, 14, 14, 14, 14, 15, 15, 15, 15, 15, 15, 15, 15, 15, 17, 17, 17, 13, 13, 13, 14, 14, 14, 14, 14, 14, 14, 14, 14, 14, 15, 15, 14, 14, 14, 15, 15, 15, 15, 15, 15, 15, 17, 17, 15, 15, 15, 15, 15, 17, 17, 17, 17, 17, 17, 17, 17, 17, 17, 15, 15, 17, 17, 17, 17, 17, 17, 17, 17, 17, 17, 17, 18, 18, 18, 17], '5일차': [17, 17, 17, 17, 17, 17, 15, 15, 15, 15, 14, 14, 14, 14, 14, 14, 14, 14, 14, 14, 14, 15, 15, 15, 15, 15, 15, 15, 15, 17, 17, 17, 17, 15, 15, 15, 15, 15, 15, 15, 14, 14, 15, 15, 15, 17, 17, 17, 17, 17, 17, 14, 14, 14, 14, 14, 14, 14, 14, 14, 14, 14, 14, 14, 14, 14, 14, 14, 14, 15, 15, 15, 15, 15, 14, 14, 14, 14, 14, 15, 15, 15, 17, 17, 17, 18, 18, 18, 18, 18, 18, 17, 17, 17, 18, 18, 18, 18, 17, 17, 17, 17, 17, 17, 17, 15, 15, 15, 15, 15, 17, 17, 17, 15, 15, 15, 15, 15, 17, 17]}\n"
     ]
    }
   ],
   "source": [
    "count = 0\n",
    "num = 0\n",
    "day = 1\n",
    "\n",
    "while day < 6:\n",
    "    if num == 120:\n",
    "        day += 1 \n",
    "        num = 0\n",
    "    else:    \n",
    "        dic_PM2_5[\"{}일차\".format(day)].append(int(PM2_5_data[count]))\n",
    "        dic_PM10[\"{}일차\".format(day)].append(int(PM10_data[count]))\n",
    "        count += 1\n",
    "        num += 1\n",
    "\n",
    "print(dic_PM2_5)\n",
    "print(dic_PM10)"
   ]
  },
  {
   "cell_type": "code",
   "execution_count": 97,
   "id": "treated-elite",
   "metadata": {
    "scrolled": true
   },
   "outputs": [
    {
     "name": "stdout",
     "output_type": "stream",
     "text": [
      "PM2.5 1일차 평균 15.95\n",
      "PM10 1일차 평균 15.95\n",
      "PM2.5 1일차 평균 14.775\n",
      "PM10 1일차 평균 14.883333333333333\n",
      "PM2.5 1일차 평균 15.216666666666667\n",
      "PM10 1일차 평균 15.475\n",
      "PM2.5 1일차 평균 15.241666666666667\n",
      "PM10 1일차 평균 15.5\n",
      "PM2.5 1일차 평균 15.325\n",
      "PM10 1일차 평균 15.516666666666667\n"
     ]
    }
   ],
   "source": [
    "# print(dic_PM2_5['1일차'].astype(np.int64))\n",
    "data = np.array(dic_PM2_5['1일차'])\n",
    "data_new = data.astype(float)\n",
    "average_1_PM2_5 = np.mean(data_new)\n",
    "data = np.array(dic_PM10['1일차'])\n",
    "data_new = data.astype(float)\n",
    "average_1_PM10 = np.mean(data_new)\n",
    "\n",
    "data = np.array(dic_PM2_5['2일차'])\n",
    "data_new = data.astype(float)\n",
    "average_2_PM2_5 = np.mean(data_new)\n",
    "data = np.array(dic_PM10['2일차'])\n",
    "data_new = data.astype(float)\n",
    "average_2_PM10 = np.mean(data_new)\n",
    "\n",
    "data = np.array(dic_PM2_5['3일차'])\n",
    "data_new = data.astype(float)\n",
    "average_3_PM2_5 = np.mean(data_new)\n",
    "data = np.array(dic_PM10['3일차'])\n",
    "data_new = data.astype(float)\n",
    "average_3_PM10 = np.mean(data_new)\n",
    "\n",
    "data = np.array(dic_PM2_5['4일차'])\n",
    "data_new = data.astype(float)\n",
    "average_4_PM2_5 = np.mean(data_new)\n",
    "data = np.array(dic_PM10['4일차'])\n",
    "data_new = data.astype(float)\n",
    "average_4_PM10 = np.mean(data_new)\n",
    "\n",
    "data = np.array(dic_PM2_5['5일차'])\n",
    "data_new = data.astype(float)\n",
    "average_5_PM2_5 = np.mean(data_new)\n",
    "data = np.array(dic_PM10['5일차'])\n",
    "data_new = data.astype(float)\n",
    "average_5_PM10 = np.mean(data_new)\n",
    "\n",
    "\n",
    "#1일차 평균\n",
    "print('PM2.5 1일차 평균',average_1_PM2_5)\n",
    "print('PM10 1일차 평균',average_1_PM10)\n",
    "# 2일차 평균\n",
    "print('PM2.5 1일차 평균',average_2_PM2_5)\n",
    "print('PM10 1일차 평균',average_2_PM10)\n",
    "# 3일차 평균\n",
    "print('PM2.5 1일차 평균',average_3_PM2_5)\n",
    "print('PM10 1일차 평균',average_3_PM10)\n",
    "# 4일차 평균\n",
    "print('PM2.5 1일차 평균',average_4_PM2_5)\n",
    "print('PM10 1일차 평균',average_4_PM10)\n",
    "# 5일차 평균\n",
    "print('PM2.5 1일차 평균',average_5_PM2_5)\n",
    "print('PM10 1일차 평균',average_5_PM10)\n",
    "\n",
    "Measurement_PM2_5 = [average_1_PM2_5,average_2_PM2_5,average_3_PM2_5,average_4_PM2_5,average_5_PM2_5]\n",
    "Measurement_PM10 = [average_1_PM10,average_2_PM10,average_3_PM10,average_4_PM10,average_5_PM10]"
   ]
  },
  {
   "cell_type": "markdown",
   "id": "governmental-compilation",
   "metadata": {},
   "source": [
    "#### EPA 2021 인디에나폴리스 PM2.5 과 PM10 값 하루 평균 \n",
    "#### 2021.02.14 ~ 2021.02.18"
   ]
  },
  {
   "cell_type": "code",
   "execution_count": 98,
   "id": "suited-layout",
   "metadata": {},
   "outputs": [],
   "source": [
    "EPA_PM2_5 = [14.1, 6.1, 5.2, 10.8, 21.1]\n",
    "EPA_PM10 = [24,17,7,22,14]"
   ]
  },
  {
   "cell_type": "code",
   "execution_count": 99,
   "id": "innovative-group",
   "metadata": {},
   "outputs": [
    {
     "data": {
      "image/png": "[encoded data removed]",
      "text/plain": [
       "<Figure size 432x288 with 1 Axes>"
      ]
     },
     "metadata": {
      "needs_background": "light"
     },
     "output_type": "display_data"
    }
   ],
   "source": [
    "plt.plot(EPA_PM2_5,label='Outdoor',marker='o', linestyle='dashed') # Outdoor Data from EPA\n",
    "plt.plot(Measurement_PM2_5,label='Indoor',marker='o', linestyle='solid') #Inoodr Data Our Measurment\n",
    "# plt.plot(EPA_No2,'r--', Measurement_no2 ,'g-.') \n",
    "plt.legend()\n",
    "plt.title('K-SW PM 2.5')\n",
    "plt.xlabel('day')\n",
    "plt.ylabel('Contaminant Concentration /ug/m3 ')\n",
    "plt.xticks(np.arange(0, 5, 1), labels=['1 day', '2 day',  '3 day', '4 day', '5 day'])\n",
    "plt.show()"
   ]
  },
  {
   "cell_type": "code",
   "execution_count": 100,
   "id": "extreme-strand",
   "metadata": {},
   "outputs": [
    {
     "data": {
      "image/png": "[encoded data removed]",
      "text/plain": [
       "<Figure size 432x288 with 1 Axes>"
      ]
     },
     "metadata": {
      "needs_background": "light"
     },
     "output_type": "display_data"
    }
   ],
   "source": [
    "plt.plot(EPA_PM10,label='Outdoor',marker='o', linestyle='dashed') # Outdoor Data from EPA\n",
    "plt.plot(Measurement_PM10,label='Indoor',marker='o', linestyle='solid') #Inoodr Data Our Measurment\n",
    "# plt.plot(EPA_No2,'r--', Measurement_no2 ,'g-.') \n",
    "plt.legend()\n",
    "plt.title('K-SW PM 10')\n",
    "plt.xlabel('day')\n",
    "plt.ylabel('Contaminant Concentration / ug/m3')\n",
    "plt.xticks(np.arange(0, 5, 1), labels=['1 day', '2 day',  '3 day', '4 day', '5 day'])\n",
    "plt.show()"
   ]
  },
  {
   "cell_type": "code",
   "execution_count": null,
   "id": "local-parliament",
   "metadata": {},
   "outputs": [],
   "source": []
  },
  {
   "cell_type": "code",
   "execution_count": null,
   "id": "experienced-massage",
   "metadata": {},
   "outputs": [],
   "source": []
  }
 ],
 "metadata": {
  "kernelspec": {
   "display_name": "Python 3",
   "language": "python",
   "name": "python3"
  },
  "language_info": {
   "codemirror_mode": {
    "name": "ipython",
    "version": 3
   },
   "file_extension": ".py",
   "mimetype": "text/x-python",
   "name": "python",
   "nbconvert_exporter": "python",
   "pygments_lexer": "ipython3",
   "version": "3.7.9"
  }
 },
 "nbformat": 4,
 "nbformat_minor": 5
}
