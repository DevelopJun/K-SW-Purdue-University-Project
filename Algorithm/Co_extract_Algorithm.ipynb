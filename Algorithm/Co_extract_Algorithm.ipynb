{
 "cells": [
  {
   "cell_type": "code",
   "execution_count": 1,
   "id": "special-genome",
   "metadata": {},
   "outputs": [],
   "source": [
    "%matplotlib inline\n",
    "import pandas as pd                #  data store and treat package pandas \n",
    "import matplotlib as mpl           # graph package\n",
    "import matplotlib.pyplot as plt    # graph package\n",
    "import numpy as np"
   ]
  },
  {
   "cell_type": "code",
   "execution_count": 2,
   "id": "blank-replica",
   "metadata": {},
   "outputs": [
    {
     "data": {
      "text/html": [
       "<div>\n",
       "<style scoped>\n",
       "    .dataframe tbody tr th:only-of-type {\n",
       "        vertical-align: middle;\n",
       "    }\n",
       "\n",
       "    .dataframe tbody tr th {\n",
       "        vertical-align: top;\n",
       "    }\n",
       "\n",
       "    .dataframe thead th {\n",
       "        text-align: right;\n",
       "    }\n",
       "</style>\n",
       "<table border=\"1\" class=\"dataframe\">\n",
       "  <thead>\n",
       "    <tr style=\"text-align: right;\">\n",
       "      <th></th>\n",
       "      <th>CO</th>\n",
       "    </tr>\n",
       "  </thead>\n",
       "  <tbody>\n",
       "    <tr>\n",
       "      <th>0</th>\n",
       "      <td>18.00%;\"22.00째\";\" 1.201\"</td>\n",
       "    </tr>\n",
       "    <tr>\n",
       "      <th>1</th>\n",
       "      <td>18.00%;\"22.00째\";\" 1.201\"</td>\n",
       "    </tr>\n",
       "    <tr>\n",
       "      <th>2</th>\n",
       "      <td>18.00%;\"22.00째\";\" 1.299\"</td>\n",
       "    </tr>\n",
       "    <tr>\n",
       "      <th>3</th>\n",
       "      <td>18.00%;\"22.00째\";\" 1.201\"</td>\n",
       "    </tr>\n",
       "    <tr>\n",
       "      <th>4</th>\n",
       "      <td>18.00%;\"22.00째\";\" 1.201\"</td>\n",
       "    </tr>\n",
       "    <tr>\n",
       "      <th>...</th>\n",
       "      <td>...</td>\n",
       "    </tr>\n",
       "    <tr>\n",
       "      <th>595</th>\n",
       "      <td>18.00%;\"22.00째\";\" 1.000\"</td>\n",
       "    </tr>\n",
       "    <tr>\n",
       "      <th>596</th>\n",
       "      <td>18.00%;\"22.00째\";\" 1.000\"</td>\n",
       "    </tr>\n",
       "    <tr>\n",
       "      <th>597</th>\n",
       "      <td>18.00%;\"22.00째\";\" 1.000\"</td>\n",
       "    </tr>\n",
       "    <tr>\n",
       "      <th>598</th>\n",
       "      <td>18.00%;\"22.00째\";\" 1.000\"</td>\n",
       "    </tr>\n",
       "    <tr>\n",
       "      <th>599</th>\n",
       "      <td>18.00%;\"22.00째\";\" 1.248\"</td>\n",
       "    </tr>\n",
       "  </tbody>\n",
       "</table>\n",
       "<p>600 rows × 1 columns</p>\n",
       "</div>"
      ],
      "text/plain": [
       "                           CO\n",
       "0    18.00%;\"22.00째\";\" 1.201\"\n",
       "1    18.00%;\"22.00째\";\" 1.201\"\n",
       "2    18.00%;\"22.00째\";\" 1.299\"\n",
       "3    18.00%;\"22.00째\";\" 1.201\"\n",
       "4    18.00%;\"22.00째\";\" 1.201\"\n",
       "..                        ...\n",
       "595  18.00%;\"22.00째\";\" 1.000\"\n",
       "596  18.00%;\"22.00째\";\" 1.000\"\n",
       "597  18.00%;\"22.00째\";\" 1.000\"\n",
       "598  18.00%;\"22.00째\";\" 1.000\"\n",
       "599  18.00%;\"22.00째\";\" 1.248\"\n",
       "\n",
       "[600 rows x 1 columns]"
      ]
     },
     "execution_count": 2,
     "metadata": {},
     "output_type": "execute_result"
    }
   ],
   "source": [
    "Co_information = pd.read_csv('K_SW_CO.csv',encoding='euc-kr')\n",
    "Co_information"
   ]
  },
  {
   "cell_type": "code",
   "execution_count": 3,
   "id": "passive-membership",
   "metadata": {},
   "outputs": [
    {
     "data": {
      "text/plain": [
       "0      18.00%;\"22.00째\";\" 1.201\"\n",
       "1      18.00%;\"22.00째\";\" 1.201\"\n",
       "2      18.00%;\"22.00째\";\" 1.299\"\n",
       "3      18.00%;\"22.00째\";\" 1.201\"\n",
       "4      18.00%;\"22.00째\";\" 1.201\"\n",
       "                 ...           \n",
       "595    18.00%;\"22.00째\";\" 1.000\"\n",
       "596    18.00%;\"22.00째\";\" 1.000\"\n",
       "597    18.00%;\"22.00째\";\" 1.000\"\n",
       "598    18.00%;\"22.00째\";\" 1.000\"\n",
       "599    18.00%;\"22.00째\";\" 1.248\"\n",
       "Name: CO, Length: 600, dtype: object"
      ]
     },
     "execution_count": 3,
     "metadata": {},
     "output_type": "execute_result"
    }
   ],
   "source": [
    "Co_information[\"CO\"]"
   ]
  },
  {
   "cell_type": "code",
   "execution_count": 4,
   "id": "excellent-quantum",
   "metadata": {},
   "outputs": [],
   "source": [
    "data = Co_information[\"CO\"]"
   ]
  },
  {
   "cell_type": "code",
   "execution_count": 5,
   "id": "unable-effect",
   "metadata": {},
   "outputs": [],
   "source": [
    "dic_Co = {'1일차' : [], '2일차' : [], '3일차' : [], '4일차' : [], '5일차' : [], }"
   ]
  },
  {
   "cell_type": "code",
   "execution_count": 6,
   "id": "manufactured-clinton",
   "metadata": {},
   "outputs": [
    {
     "name": "stdout",
     "output_type": "stream",
     "text": [
      "600\n",
      "[1.201, 1.201, 1.299, 1.201, 1.201, 1.201, 1.201, 1.201, 1.201, 1.201, 1.201, 1.201, 1.201, 1.201, 1.201, 1.201, 1.201, 1.201, 1.201, 1.201, 1.201, 1.201, 1.201, 1.299, 1.201, 1.201, 1.201, 1.201, 1.201, 1.201, 1.201, 1.201, 1.201, 1.201, 1.201, 1.201, 1.201, 1.201, 1.201, 1.201, 1.201, 1.201, 1.201, 1.201, 1.201, 1.201, 1.201, 1.201, 1.201, 1.201, 1.201, 1.201, 1.201, 1.201, 1.201, 1.201, 1.201, 1.201, 1.201, 1.201, 1.201, 1.201, 1.201, 1.201, 1.201, 1.201, 1.201, 1.201, 1.201, 1.201, 1.201, 1.201, 1.201, 1.201, 1.201, 1.201, 1.201, 1.201, 1.201, 1.201, 1.299, 1.402, 3.12, 3.921, 3.505, 2.441, 1.872, 1.625, 1.511, 1.511, 2.939, 4.37, 3.12, 2.939, 2.766, 2.766, 2.766, 2.6, 2.441, 2.441, 2.441, 2.441, 2.289, 2.441, 2.289, 2.143, 2.143, 2.143, 2.143, 2.143, 2.004, 2.004, 2.143, 2.004, 1.872, 1.872, 2.004, 2.766, 3.12, 2.939, 2.939, 2.766, 2.766, 2.6, 2.441, 2.441, 2.441, 2.441, 2.441, 2.441, 2.441, 2.289, 2.289, 2.143, 2.289, 2.289, 2.143, 2.143, 2.143, 2.143, 2.143, 2.143, 2.143, 2.143, 2.143, 2.143, 2.143, 2.143, 2.004, 2.004, 2.004, 1.872, 2.143, 1.872, 2.004, 1.872, 1.872, 2.004, 2.004, 2.004, 1.174, 1.257, 1.174, 1.174, 1.174, 1.174, 1.174, 1.174, 1.174, 1.174, 1.174, 1.174, 1.174, 1.174, 1.174, 1.174, 1.174, 1.174, 1.174, 1.174, 1.174, 1.174, 1.174, 1.174, 1.174, 1.174, 1.174, 1.174, 1.174, 1.174, 1.174, 1.174, 1.174, 1.174, 1.174, 1.174, 1.174, 1.174, 1.174, 1.174, 1.174, 1.174, 1.094, 1.174, 1.174, 1.174, 1.174, 1.174, 1.174, 1.174, 1.239, 1.239, 1.239, 1.239, 1.155, 1.239, 1.155, 1.155, 1.239, 1.239, 1.239, 1.239, 1.239, 1.239, 1.239, 1.155, 1.239, 1.155, 1.155, 1.239, 1.155, 1.239, 1.155, 1.239, 1.155, 1.155, 1.155, 1.155, 1.155, 1.155, 1.239, 1.155, 1.155, 1.155, 1.155, 1.239, 1.076, 1.076, 1.155, 1.155, 1.155, 1.155, 1.155, 1.155, 1.155, 1.076, 1.155, 1.155, 1.155, 1.155, 1.076, 1.076, 1.155, 1.155, 1.076, 1.076, 1.076, 1.076, 1.076, 1.076, 1.076, 1.155, 1.076, 1.076, 1.155, 1.076, 1.076, 1.076, 1.076, 1.076, 1.076, 1.076, 1.076, 1.076, 1.076, 1.076, 1.155, 1.076, 1.155, 1.076, 1.076, 1.076, 1.076, 1.076, 1.076, 1.076, 1.076, 1.076, 1.076, 1.155, 1.076, 1.076, 1.076, 1.076, 1.076, 1.076, 1.076, 1.076, 1.076, 1.076, 1.076, 1.076, 1.076, 1.076, 1.076, 1.076, 1.076, 1.076, 1.076, 1.076, 1.076, 1.076, 1.076, 1.076, 1.076, 1.076, 1.076, 1.076, 1.076, 1.076, 1.076, 1.076, 1.076, 1.076, 1.076, 1.076, 1.076, 1.076, 1.076, 1.076, 1.076, 1.076, 1.076, 1.076, 1.076, 1.076, 1.076, 1.076, 1.076, 1.076, 1.076, 1.076, 1.076, 1.076, 1.076, 1.076, 1.076, 1.076, 1.076, 1.076, 1.076, 1.076, 1.076, 1.076, 1.076, 1.076, 1.076, 1.076, 1.076, 1.076, 1.076, 1.076, 1.076, 1.076, 1.076, 1.076, 1.076, 1.076, 1.076, 1.076, 1.0, 1.076, 1.076, 1.076, 1.076, 1.076, 1.076, 1.076, 1.076, 1.076, 1.076, 1.076, 1.076, 1.076, 1.076, 1.076, 1.076, 1.076, 1.076, 1.076, 1.076, 1.076, 1.076, 1.076, 1.076, 1.076, 1.076, 1.0, 1.076, 1.076, 1.076, 1.0, 1.0, 1.076, 1.0, 1.076, 1.076, 1.076, 1.076, 1.076, 1.076, 1.076, 1.076, 1.076, 1.076, 1.076, 1.076, 1.0, 1.076, 1.076, 1.076, 1.076, 1.0, 1.076, 1.076, 1.076, 1.0, 1.076, 1.0, 1.0, 1.0, 1.0, 1.0, 1.076, 1.0, 1.076, 1.0, 1.0, 1.0, 1.076, 1.0, 1.076, 1.076, 1.076, 1.0, 1.076, 1.0, 1.0, 1.076, 1.076, 1.076, 1.0, 1.0, 1.076, 1.076, 1.0, 1.076, 1.076, 1.076, 1.076, 1.076, 1.076, 1.076, 1.076, 1.076, 1.076, 1.076, 1.076, 1.076, 1.076, 1.076, 1.076, 1.076, 1.0, 1.076, 1.076, 1.076, 1.076, 1.076, 1.0, 1.076, 1.076, 1.0, 1.0, 1.076, 1.076, 1.076, 1.0, 1.076, 1.0, 1.076, 1.076, 1.076, 1.0, 1.076, 1.0, 1.076, 1.0, 1.076, 1.076, 1.076, 1.0, 1.076, 1.0, 1.0, 1.076, 1.155, 1.076, 1.076, 1.155, 1.076, 1.076, 1.076, 1.076, 1.239, 1.239, 1.155, 1.239, 1.239, 1.239, 1.418, 1.418, 1.327, 1.418, 1.327, 1.239, 1.239, 1.239, 1.239, 1.239, 1.076, 1.076, 1.076, 1.076, 1.076, 1.076, 1.076, 1.076, 1.076, 1.076, 1.076, 1.076, 1.076, 1.076, 1.076, 1.076, 1.076, 1.076, 1.076, 1.076, 1.076, 1.076, 1.076, 1.076, 1.076, 1.0, 1.0, 1.076, 1.0, 1.076, 1.076, 1.076, 1.076, 1.0, 1.0, 1.0, 1.0, 1.076, 1.0, 1.0, 1.076, 1.0, 1.0, 1.0, 1.076, 1.0, 1.0, 1.076, 1.0, 1.0, 1.0, 1.0, 1.076, 1.0, 1.0, 1.0, 1.0, 1.0, 1.0, 1.248]\n"
     ]
    }
   ],
   "source": [
    "Co_data = []\n",
    "\n",
    "for i in range(600):\n",
    "    Co_data.append(float(data[i][18:23]))\n",
    "    \n",
    "print(len(Co_data))\n",
    "print(Co_data)"
   ]
  },
  {
   "cell_type": "code",
   "execution_count": 7,
   "id": "theoretical-lafayette",
   "metadata": {},
   "outputs": [
    {
     "name": "stdout",
     "output_type": "stream",
     "text": [
      "{'1일차': [1.201, 1.201, 1.299, 1.201, 1.201, 1.201, 1.201, 1.201, 1.201, 1.201, 1.201, 1.201, 1.201, 1.201, 1.201, 1.201, 1.201, 1.201, 1.201, 1.201, 1.201, 1.201, 1.201, 1.299, 1.201, 1.201, 1.201, 1.201, 1.201, 1.201, 1.201, 1.201, 1.201, 1.201, 1.201, 1.201, 1.201, 1.201, 1.201, 1.201, 1.201, 1.201, 1.201, 1.201, 1.201, 1.201, 1.201, 1.201, 1.201, 1.201, 1.201, 1.201, 1.201, 1.201, 1.201, 1.201, 1.201, 1.201, 1.201, 1.201, 1.201, 1.201, 1.201, 1.201, 1.201, 1.201, 1.201, 1.201, 1.201, 1.201, 1.201, 1.201, 1.201, 1.201, 1.201, 1.201, 1.201, 1.201, 1.201, 1.201, 1.299, 1.402, 3.12, 3.921, 3.505, 2.441, 1.872, 1.625, 1.511, 1.511, 2.939, 4.37, 3.12, 2.939, 2.766, 2.766, 2.766, 2.6, 2.441, 2.441, 2.441, 2.441, 2.289, 2.441, 2.289, 2.143, 2.143, 2.143, 2.143, 2.143, 2.004, 2.004, 2.143, 2.004, 1.872, 1.872, 2.004, 2.766, 3.12, 2.939], '2일차': [2.939, 2.766, 2.766, 2.6, 2.441, 2.441, 2.441, 2.441, 2.441, 2.441, 2.441, 2.289, 2.289, 2.143, 2.289, 2.289, 2.143, 2.143, 2.143, 2.143, 2.143, 2.143, 2.143, 2.143, 2.143, 2.143, 2.143, 2.143, 2.004, 2.004, 2.004, 1.872, 2.143, 1.872, 2.004, 1.872, 1.872, 2.004, 2.004, 2.004, 1.174, 1.257, 1.174, 1.174, 1.174, 1.174, 1.174, 1.174, 1.174, 1.174, 1.174, 1.174, 1.174, 1.174, 1.174, 1.174, 1.174, 1.174, 1.174, 1.174, 1.174, 1.174, 1.174, 1.174, 1.174, 1.174, 1.174, 1.174, 1.174, 1.174, 1.174, 1.174, 1.174, 1.174, 1.174, 1.174, 1.174, 1.174, 1.174, 1.174, 1.174, 1.174, 1.094, 1.174, 1.174, 1.174, 1.174, 1.174, 1.174, 1.174, 1.239, 1.239, 1.239, 1.239, 1.155, 1.239, 1.155, 1.155, 1.239, 1.239, 1.239, 1.239, 1.239, 1.239, 1.239, 1.155, 1.239, 1.155, 1.155, 1.239, 1.155, 1.239, 1.155, 1.239, 1.155, 1.155, 1.155, 1.155, 1.155, 1.155], '3일차': [1.239, 1.155, 1.155, 1.155, 1.155, 1.239, 1.076, 1.076, 1.155, 1.155, 1.155, 1.155, 1.155, 1.155, 1.155, 1.076, 1.155, 1.155, 1.155, 1.155, 1.076, 1.076, 1.155, 1.155, 1.076, 1.076, 1.076, 1.076, 1.076, 1.076, 1.076, 1.155, 1.076, 1.076, 1.155, 1.076, 1.076, 1.076, 1.076, 1.076, 1.076, 1.076, 1.076, 1.076, 1.076, 1.076, 1.155, 1.076, 1.155, 1.076, 1.076, 1.076, 1.076, 1.076, 1.076, 1.076, 1.076, 1.076, 1.076, 1.155, 1.076, 1.076, 1.076, 1.076, 1.076, 1.076, 1.076, 1.076, 1.076, 1.076, 1.076, 1.076, 1.076, 1.076, 1.076, 1.076, 1.076, 1.076, 1.076, 1.076, 1.076, 1.076, 1.076, 1.076, 1.076, 1.076, 1.076, 1.076, 1.076, 1.076, 1.076, 1.076, 1.076, 1.076, 1.076, 1.076, 1.076, 1.076, 1.076, 1.076, 1.076, 1.076, 1.076, 1.076, 1.076, 1.076, 1.076, 1.076, 1.076, 1.076, 1.076, 1.076, 1.076, 1.076, 1.076, 1.076, 1.076, 1.076, 1.076, 1.076], '4일차': [1.076, 1.076, 1.076, 1.076, 1.076, 1.076, 1.076, 1.076, 1.076, 1.076, 1.076, 1.076, 1.076, 1.076, 1.076, 1.076, 1.076, 1.076, 1.076, 1.076, 1.0, 1.076, 1.076, 1.076, 1.076, 1.076, 1.076, 1.076, 1.076, 1.076, 1.076, 1.076, 1.076, 1.076, 1.076, 1.076, 1.076, 1.076, 1.076, 1.076, 1.076, 1.076, 1.076, 1.076, 1.076, 1.076, 1.076, 1.0, 1.076, 1.076, 1.076, 1.0, 1.0, 1.076, 1.0, 1.076, 1.076, 1.076, 1.076, 1.076, 1.076, 1.076, 1.076, 1.076, 1.076, 1.076, 1.076, 1.0, 1.076, 1.076, 1.076, 1.076, 1.0, 1.076, 1.076, 1.076, 1.0, 1.076, 1.0, 1.0, 1.0, 1.0, 1.0, 1.076, 1.0, 1.076, 1.0, 1.0, 1.0, 1.076, 1.0, 1.076, 1.076, 1.076, 1.0, 1.076, 1.0, 1.0, 1.076, 1.076, 1.076, 1.0, 1.0, 1.076, 1.076, 1.0, 1.076, 1.076, 1.076, 1.076, 1.076, 1.076, 1.076, 1.076, 1.076, 1.076, 1.076, 1.076, 1.076, 1.076], '5일차': [1.076, 1.076, 1.076, 1.0, 1.076, 1.076, 1.076, 1.076, 1.076, 1.0, 1.076, 1.076, 1.0, 1.0, 1.076, 1.076, 1.076, 1.0, 1.076, 1.0, 1.076, 1.076, 1.076, 1.0, 1.076, 1.0, 1.076, 1.0, 1.076, 1.076, 1.076, 1.0, 1.076, 1.0, 1.0, 1.076, 1.155, 1.076, 1.076, 1.155, 1.076, 1.076, 1.076, 1.076, 1.239, 1.239, 1.155, 1.239, 1.239, 1.239, 1.418, 1.418, 1.327, 1.418, 1.327, 1.239, 1.239, 1.239, 1.239, 1.239, 1.076, 1.076, 1.076, 1.076, 1.076, 1.076, 1.076, 1.076, 1.076, 1.076, 1.076, 1.076, 1.076, 1.076, 1.076, 1.076, 1.076, 1.076, 1.076, 1.076, 1.076, 1.076, 1.076, 1.076, 1.076, 1.0, 1.0, 1.076, 1.0, 1.076, 1.076, 1.076, 1.076, 1.0, 1.0, 1.0, 1.0, 1.076, 1.0, 1.0, 1.076, 1.0, 1.0, 1.0, 1.076, 1.0, 1.0, 1.076, 1.0, 1.0, 1.0, 1.0, 1.076, 1.0, 1.0, 1.0, 1.0, 1.0, 1.0, 1.248]}\n"
     ]
    }
   ],
   "source": [
    "count = 0\n",
    "num = 0\n",
    "day = 1\n",
    "\n",
    "while day < 6:\n",
    "    if num == 120:\n",
    "        day += 1 \n",
    "        num = 0\n",
    "    else:    \n",
    "        dic_Co[\"{}일차\".format(day)].append(float(Co_data[count]))\n",
    "        count += 1\n",
    "        num += 1\n",
    "\n",
    "print(dic_Co)"
   ]
  },
  {
   "cell_type": "code",
   "execution_count": 8,
   "id": "typical-diagnosis",
   "metadata": {},
   "outputs": [
    {
     "name": "stdout",
     "output_type": "stream",
     "text": [
      "Co 1일차 평균 1.6081250000000002\n",
      "CO 2일차 평균 1.5294083333333333\n",
      "Co 3일차 평균 1.0932000000000002\n",
      "Co 4일차 평균 1.0608000000000002\n",
      "Co 5일차 평균 1.0829250000000001\n"
     ]
    }
   ],
   "source": [
    "# print(dic_PM2_5['1일차'].astype(np.int64))\n",
    "data = np.array(dic_Co['1일차'])\n",
    "data_new = data.astype(float)\n",
    "average_1_Co = np.mean(data_new)\n",
    "\n",
    "\n",
    "data = np.array(dic_Co['2일차'])\n",
    "data_new = data.astype(float)\n",
    "average_2_Co = np.mean(data_new)\n",
    "\n",
    "\n",
    "data = np.array(dic_Co['3일차'])\n",
    "data_new = data.astype(float)\n",
    "average_3_Co = np.mean(data_new)\n",
    "\n",
    "data = np.array(dic_Co['4일차'])\n",
    "data_new = data.astype(float)\n",
    "average_4_Co = np.mean(data_new)\n",
    "\n",
    "data = np.array(dic_Co['5일차'])\n",
    "data_new = data.astype(float)\n",
    "average_5_Co = np.mean(data_new)\n",
    "\n",
    "\n",
    "#1일차 평균\n",
    "print('Co 1일차 평균',average_1_Co)\n",
    "\n",
    "# 2일차 평균\n",
    "print('CO 2일차 평균',average_2_Co)\n",
    "\n",
    "# 3일차 평균\n",
    "print('Co 3일차 평균',average_3_Co)\n",
    "\n",
    "# 4일차 평균\n",
    "print('Co 4일차 평균',average_4_Co)\n",
    "\n",
    "# 5일차 평균\n",
    "print('Co 5일차 평균',average_5_Co)\n",
    "Measurement_Co = [average_1_Co,average_2_Co,average_3_Co,average_4_Co,average_5_Co]"
   ]
  },
  {
   "cell_type": "markdown",
   "id": "improving-lafayette",
   "metadata": {},
   "source": [
    "#### EPA 2021 인디에나폴리스 Co값 하루 평균\n",
    "#### 2021.02.14 ~ 2021.02.18"
   ]
  },
  {
   "cell_type": "code",
   "execution_count": 9,
   "id": "criminal-principle",
   "metadata": {},
   "outputs": [],
   "source": [
    "EPA_Co = [0.3\n",
    ",0.2\n",
    ",0.3\n",
    ",0.6\n",
    ",0.3\n",
    "]"
   ]
  },
  {
   "cell_type": "code",
   "execution_count": 10,
   "id": "fiscal-charles",
   "metadata": {},
   "outputs": [
    {
     "data": {
      "image/png": "[encoded data removed]",
      "text/plain": [
       "<Figure size 432x288 with 1 Axes>"
      ]
     },
     "metadata": {
      "needs_background": "light"
     },
     "output_type": "display_data"
    }
   ],
   "source": [
    "plt.plot(EPA_Co,label='Outdoor',marker='o', linestyle='dashed') # Outdoor Data from EPA\n",
    "plt.plot(Measurement_Co,label='Indoor',marker='o', linestyle='solid') #Inoodr Data Our Measurment\n",
    "# plt.plot(EPA_No2,'r--', Measurement_no2 ,'g-.') \n",
    "plt.legend()\n",
    "plt.title('K-SW Co')\n",
    "plt.xlabel('day')\n",
    "plt.ylabel('Contaminant Concentration / PPM')\n",
    "plt.yticks(np.arange(0, 2.0, 0.1))\n",
    "plt.xticks(np.arange(0, 5, 1), labels=['1 day', '2 day',  '3 day', '4 day', '5 day'])\n",
    "plt.show()"
   ]
  },
  {
   "cell_type": "code",
   "execution_count": null,
   "id": "alternate-dubai",
   "metadata": {},
   "outputs": [],
   "source": []
  }
 ],
 "metadata": {
  "kernelspec": {
   "display_name": "Python 3",
   "language": "python",
   "name": "python3"
  },
  "language_info": {
   "codemirror_mode": {
    "name": "ipython",
    "version": 3
   },
   "file_extension": ".py",
   "mimetype": "text/x-python",
   "name": "python",
   "nbconvert_exporter": "python",
   "pygments_lexer": "ipython3",
   "version": "3.7.9"
  }
 },
 "nbformat": 4,
 "nbformat_minor": 5
}
